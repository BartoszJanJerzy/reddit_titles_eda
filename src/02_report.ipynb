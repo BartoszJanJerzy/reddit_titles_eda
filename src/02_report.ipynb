{
 "cells": [
  {
   "cell_type": "code",
   "execution_count": null,
   "metadata": {},
   "outputs": [],
   "source": [
    "import os\n",
    "os.chdir(r\"D:\\PythonApps\\exercise_reddit_titles\")\n",
    "# os.getcwd()"
   ]
  },
  {
   "cell_type": "markdown",
   "metadata": {},
   "source": [
    "# Imports"
   ]
  },
  {
   "cell_type": "code",
   "execution_count": null,
   "metadata": {},
   "outputs": [],
   "source": [
    "import warnings\n",
    "import pandas as pd\n",
    "import plotly.graph_objects as go\n",
    "import plotly.express as px\n",
    "from plotly.subplots import make_subplots\n",
    "import plotly.io as pio"
   ]
  },
  {
   "cell_type": "code",
   "execution_count": null,
   "metadata": {},
   "outputs": [],
   "source": [
    "warnings.filterwarnings('ignore')\n",
    "pio.templates.default = \"plotly_dark\""
   ]
  },
  {
   "cell_type": "markdown",
   "metadata": {},
   "source": [
    "# Data to visualization"
   ]
  },
  {
   "cell_type": "code",
   "execution_count": null,
   "metadata": {},
   "outputs": [],
   "source": [
    "sig_features = [\n",
    "    \"sentiment\",\n",
    "\n",
    "    \"ner_DATE\",\n",
    "    \"ner_MONEY\",\n",
    "    \"ner_ORG\",\n",
    "    \"ner_CARDINAL\",\n",
    "\n",
    "    \"pos_VERB\",\n",
    "    \"pos_NOUN\",\n",
    "    \"pos_PUNCT\",\n",
    "\n",
    "    \"tag_NN\",\n",
    "    \"tag_VBD\",\n",
    "    \"tag_DT\",\n",
    "    \"tag_IN\",\n",
    "    \"tag_PRP\"\n",
    "]\n",
    "sig_cols = [\"text\", \"score\"] + sig_features"
   ]
  },
  {
   "cell_type": "code",
   "execution_count": null,
   "metadata": {},
   "outputs": [],
   "source": [
    "df = pd.read_parquet(\"resources/dataframe_features.pq\")[sig_cols]\n",
    "df = df[df.score <= (df.score.mean() + df.score.std()*3)].reset_index()"
   ]
  },
  {
   "cell_type": "code",
   "execution_count": null,
   "metadata": {},
   "outputs": [],
   "source": [
    "sentiment_map = {\n",
    "    \"Very Negative\": 0,\n",
    "    \"Negative\": 1,\n",
    "    \"Neutral\": 2,\n",
    "    \"Positive\": 3,\n",
    "    \"Very Positive\": 4\n",
    "}\n",
    "df[\"sentiment_rank\"] = df.sentiment.apply(lambda x: sentiment_map[x])"
   ]
  },
  {
   "cell_type": "code",
   "execution_count": null,
   "metadata": {},
   "outputs": [],
   "source": [
    "df_low = df[df.score <= df.score.quantile(0.1)].reset_index(drop=True)\n",
    "df_high = df[df.score >= df.score.quantile(0.9)].reset_index(drop=True)"
   ]
  },
  {
   "cell_type": "code",
   "execution_count": null,
   "metadata": {},
   "outputs": [],
   "source": [
    "df_low"
   ]
  },
  {
   "cell_type": "code",
   "execution_count": null,
   "metadata": {},
   "outputs": [],
   "source": [
    "fig = make_subplots(\n",
    "    cols=3,\n",
    "    rows=1,\n",
    "    subplot_titles=(\"NER\", \"Part-of-speech\", \"Detailed part-of-speech\")\n",
    ")\n",
    "\n",
    "for data, color, name in [\n",
    "    [df_low, \"rgb(1, 58, 99)\", \"low-scored titles\"],\n",
    "    [df_high, \"rgb(128, 0, 22)\", \"high-scored titles\"],\n",
    "]:\n",
    "    features = [col for col in data.columns if col.startswith(\"ner\")]\n",
    "    fig.add_trace(\n",
    "        go.Bar(\n",
    "            name=\"ner\",\n",
    "            orientation=\"h\",\n",
    "            y=features,\n",
    "            x=data[features].mean(),\n",
    "            marker_color=color,\n",
    "            legendgroup=name,\n",
    "            legendgrouptitle_text=name,\n",
    "        ),\n",
    "        col=1,\n",
    "        row=1\n",
    "    )\n",
    "\n",
    "    features = [col for col in data.columns if col.startswith(\"pos\")]\n",
    "    fig.add_trace(\n",
    "        go.Bar(\n",
    "            name=\"pos\",\n",
    "            orientation=\"h\",\n",
    "            y=features,\n",
    "            x=data[features].mean(),\n",
    "            marker_color=color,\n",
    "            legendgroup=name,\n",
    "            legendgrouptitle_text=name,\n",
    "        ),\n",
    "        col=2,\n",
    "        row=1\n",
    "    )\n",
    "\n",
    "    features = [col for col in data.columns if col.startswith(\"tag\")]\n",
    "    fig.add_trace(\n",
    "        go.Bar(\n",
    "            name=\"tag\",\n",
    "            orientation=\"h\",\n",
    "            y=features,\n",
    "            x=data[features].mean(),\n",
    "            marker_color=color,\n",
    "            legendgroup=name,\n",
    "            legendgrouptitle_text=name,\n",
    "        ),\n",
    "        col=3,\n",
    "        row=1\n",
    "    )\n",
    "\n",
    "\n",
    "fig.update_layout(\n",
    "    title=\"<b>High- and low-scored titles differ in lexical structure</b>\",\n",
    "    width=1400,\n",
    "    height=500,\n",
    "    xaxis=dict(title=\"count per text\"),\n",
    "    xaxis2=dict(title=\"count per text\"),\n",
    "    xaxis3=dict(title=\"count per text\"),\n",
    "    legend=dict(groupclick=\"toggleitem\")\n",
    ")\n",
    "\n",
    "\n",
    "fig.show()"
   ]
  },
  {
   "cell_type": "code",
   "execution_count": null,
   "metadata": {},
   "outputs": [],
   "source": [
    "df_graph = df.groupby(\"sentiment\").agg({\"score\": \"median\"}).reset_index().sort_values(\"score\", ascending=False)\n",
    "\n",
    "fig = px.bar(\n",
    "    df_graph,\n",
    "    x=\"sentiment\",\n",
    "    y=\"score\",\n",
    "    width=900,\n",
    "    height\n",
    "    title=\"<b>Negative sentiment attracts attention more than positive one</b>\",\n",
    "    color=\"sentiment\",\n",
    "    color_discrete_map={\n",
    "        \"Very Negative\": \"rgb(128, 0, 22)\",\n",
    "        \"Negative\": \"rgb(192, 0, 33)\",\n",
    "        \"Neutral\": \"silver\",\n",
    "        \"Positive\": \"rgb(0, 128, 0)\",\n",
    "        \"Very Positive\": \"rgb(0, 75, 35)\"\n",
    "    }\n",
    ")\n",
    "fig.show()"
   ]
  },
  {
   "cell_type": "code",
   "execution_count": null,
   "metadata": {},
   "outputs": [],
   "source": []
  }
 ],
 "metadata": {
  "kernelspec": {
   "display_name": ".venv",
   "language": "python",
   "name": "python3"
  },
  "language_info": {
   "codemirror_mode": {
    "name": "ipython",
    "version": 3
   },
   "file_extension": ".py",
   "mimetype": "text/x-python",
   "name": "python",
   "nbconvert_exporter": "python",
   "pygments_lexer": "ipython3",
   "version": "3.12.3"
  }
 },
 "nbformat": 4,
 "nbformat_minor": 2
}
