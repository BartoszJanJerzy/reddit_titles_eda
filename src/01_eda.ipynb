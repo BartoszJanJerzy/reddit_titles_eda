{
 "cells": [
  {
   "cell_type": "code",
   "execution_count": null,
   "metadata": {},
   "outputs": [],
   "source": [
    "import os\n",
    "os.chdir(r\"D:\\PythonApps\\exercise_reddit_titles\")\n",
    "os.getcwd()"
   ]
  },
  {
   "cell_type": "markdown",
   "metadata": {},
   "source": [
    "# Imports"
   ]
  },
  {
   "cell_type": "code",
   "execution_count": null,
   "metadata": {},
   "outputs": [],
   "source": [
    "import pandas as pd\n",
    "import json\n",
    "import pprint\n",
    "import numpy as np\n",
    "from IPython.core.display import HTML\n",
    "from IPython.display import display\n",
    "from tqdm import tqdm\n",
    "\n",
    "import spacy\n",
    "from transformers import pipeline\n",
    "\n",
    "import plotly.graph_objects as go\n",
    "import plotly.express as px\n",
    "from plotly.subplots import make_subplots\n",
    "from plotly.colors import n_colors"
   ]
  },
  {
   "cell_type": "code",
   "execution_count": null,
   "metadata": {},
   "outputs": [],
   "source": [
    "import warnings\n",
    "warnings.filterwarnings('ignore')"
   ]
  },
  {
   "cell_type": "markdown",
   "metadata": {},
   "source": [
    "# DataFrame"
   ]
  },
  {
   "cell_type": "code",
   "execution_count": null,
   "metadata": {},
   "outputs": [],
   "source": [
    "df = pd.read_parquet(\"resources/dataframe_features.pq\")\n",
    "df.head()"
   ]
  },
  {
   "cell_type": "code",
   "execution_count": null,
   "metadata": {},
   "outputs": [],
   "source": [
    "df.info()"
   ]
  },
  {
   "cell_type": "code",
   "execution_count": null,
   "metadata": {},
   "outputs": [],
   "source": [
    "base_cols = [\"text\", \"score\", \"sentiment\"]\n",
    "ner_cols = [c for c in df.columns if c.startswith(\"ner\")]\n",
    "pos_cols = [c for c in df.columns if c.startswith(\"pos\")]\n",
    "tag_cols = [c for c in df.columns if c.startswith(\"tag\")]\n",
    "lemma_cols = [c for c in df.columns if c.startswith(\"lemma\")]"
   ]
  },
  {
   "cell_type": "markdown",
   "metadata": {},
   "source": [
    "# Utils"
   ]
  },
  {
   "cell_type": "code",
   "execution_count": null,
   "metadata": {},
   "outputs": [],
   "source": [
    "def extreme_groups_df(df: pd.DataFrame):\n",
    "    df_low = df[df.score <= df.score.quantile(0.10)]\n",
    "    df_mean = df[(df.score >= df.score.quantile(0.45)) & (df.score <= df.score.quantile(0.55))]\n",
    "    df_high = df[df.score >= df.score.quantile(0.90)]\n",
    "    return df_low, df_mean, df_high"
   ]
  },
  {
   "cell_type": "code",
   "execution_count": null,
   "metadata": {},
   "outputs": [],
   "source": [
    "def extreme_groups_diff(cols, df_high, df_mean, df_low):\n",
    "    high_means = df_high[cols].mean().to_list()\n",
    "    mean_means = df_mean[cols].mean().to_list()\n",
    "    low_means = df_low[cols].mean().to_list()\n",
    "    high_low_diff = [np.abs(h - l) for h,l in zip(high_means, low_means)]\n",
    "    graph_df = pd.DataFrame(\n",
    "        dict(\n",
    "            high_means=high_means,\n",
    "            mean_means=mean_means,\n",
    "            low_means=low_means,\n",
    "            high_low_diff=high_low_diff,\n",
    "            ner_ratio=cols\n",
    "        )\n",
    "    ).sort_values(\"high_low_diff\", ascending=False).reset_index(drop=True)\n",
    "\n",
    "\n",
    "    fig = make_subplots(\n",
    "        cols=1,\n",
    "        rows=2,\n",
    "        subplot_titles=(\n",
    "            \"Groups medians\",\n",
    "            \"High - Low Diff\"\n",
    "        )\n",
    "    )\n",
    "\n",
    "\n",
    "    fig.add_trace(\n",
    "        go.Bar(\n",
    "            name=\"ABS High - Low\",\n",
    "            x=graph_df.ner_ratio,\n",
    "            y=graph_df.high_low_diff,\n",
    "            text=[round(x, 2) for x in graph_df.high_low_diff],\n",
    "            marker_color=\"silver\",\n",
    "        ),\n",
    "        col=1,\n",
    "        row=2\n",
    "    )\n",
    "\n",
    "\n",
    "    fig.add_trace(\n",
    "        go.Bar(\n",
    "            name=\"High\",\n",
    "            x=graph_df.ner_ratio,\n",
    "            y=graph_df.high_means,\n",
    "            marker_color=\"red\"\n",
    "        ),\n",
    "        col=1,\n",
    "        row=1\n",
    "    )\n",
    "\n",
    "    fig.add_trace(\n",
    "        go.Bar(\n",
    "            name=\"Mean\",\n",
    "            x=graph_df.ner_ratio,\n",
    "            y=graph_df.mean_means,\n",
    "            marker_color=\"green\"\n",
    "        ),\n",
    "        col=1,\n",
    "        row=1\n",
    "    )\n",
    "\n",
    "    fig.add_trace(\n",
    "        go.Bar(\n",
    "            name=\"Low\",\n",
    "            x=graph_df.ner_ratio,\n",
    "            y=graph_df.low_means,\n",
    "            marker_color=\"blue\"\n",
    "        ),\n",
    "        col=1,\n",
    "        row=1\n",
    "    )\n",
    "\n",
    "    fig.update_yaxes(title_text=\"Mean ratio\", secondary_y=False)\n",
    "    fig.update_yaxes(title_text=\"ABS High - Low Diff\", secondary_y=True)\n",
    "\n",
    "    fig.update_layout(\n",
    "        height=800,\n",
    "        legend=dict(\n",
    "            orientation=\"h\",\n",
    "            yanchor=\"top\",\n",
    "            y=1.05\n",
    "        )\n",
    "    )\n",
    "\n",
    "    fig.show()\n"
   ]
  },
  {
   "cell_type": "markdown",
   "metadata": {},
   "source": [
    "# Score\n",
    "- cut off records with score higher than +3SD"
   ]
  },
  {
   "cell_type": "code",
   "execution_count": null,
   "metadata": {},
   "outputs": [],
   "source": [
    "fig = px.histogram(\n",
    "    df,\n",
    "    \"score\"\n",
    ")\n",
    "fig.update_traces(\n",
    "    marker_color=\"gray\"\n",
    ")\n",
    "\n",
    "v = df.score.median()\n",
    "fig.add_trace(\n",
    "    go.Scatter(\n",
    "        name='median',\n",
    "        x=[v, v],\n",
    "        y=[0, 10000],\n",
    "        text=\"median\",\n",
    "        mode=\"lines+text\",\n",
    "        textposition=\"top right\",\n",
    "        marker_color=\"blue\"\n",
    "    )\n",
    ")\n",
    "\n",
    "v = df.score.quantile(0.7)\n",
    "fig.add_trace(\n",
    "    go.Scatter(\n",
    "        name='q70',\n",
    "        x=[v, v],\n",
    "        y=[0, 10000],\n",
    "        text=\"q75\",\n",
    "        mode=\"lines+text\",\n",
    "        textposition=\"top right\",\n",
    "        marker_color=\"orange\"\n",
    "    )\n",
    ")\n",
    "\n",
    "v = df.score.quantile(0.9)\n",
    "fig.add_trace(\n",
    "    go.Scatter(\n",
    "        name='q90',\n",
    "        x=[v, v],\n",
    "        y=[0, 10000],\n",
    "        text=\"q90\",\n",
    "        mode=\"lines+text\",\n",
    "        textposition=\"top right\",\n",
    "        marker_color=\"red\"\n",
    "    )\n",
    ")\n",
    "\n",
    "\n",
    "v = df.score.std()*3 + df.score.mean()\n",
    "fig.add_trace(\n",
    "    go.Scatter(\n",
    "        name='+3sd',\n",
    "        x=[v, v],\n",
    "        y=[0, 10000],\n",
    "        text=\"3sd\",\n",
    "        mode=\"lines+text\",\n",
    "        textposition=\"top right\",\n",
    "        marker_color=\"black\"\n",
    "    )\n",
    ")\n",
    "\n",
    "\n",
    "fig.show()"
   ]
  },
  {
   "cell_type": "code",
   "execution_count": null,
   "metadata": {},
   "outputs": [],
   "source": [
    "df = df[df.score <= (df.score.std()*3 + df.score.mean())]"
   ]
  },
  {
   "cell_type": "markdown",
   "metadata": {},
   "source": [
    "# Ner entities\n",
    "- There's no strong correlation between er entites and title score\n",
    "- However, titles with high scores (> q90) slightly differed from titles with low scores (< q10). Hight socred titles have:\n",
    "    - more MONEY entities\n",
    "    - more DATE entities\n",
    "    - less PERSON entites\n",
    "- **It may means that the money-related titles attract attention**"
   ]
  },
  {
   "cell_type": "code",
   "execution_count": null,
   "metadata": {},
   "outputs": [],
   "source": [
    "df_ner = df[base_cols + ner_cols]\n",
    "df_ner[\"total_ents\"] = df_ner[ner_cols].sum(axis=1)\n",
    "\n",
    "for col in ner_cols:\n",
    "    df_ner[f\"{col}_ratio\"] = (df_ner[col] / df_ner[\"total_ents\"]) * 100\n",
    "\n",
    "df_low, df_mean, df_high = extreme_groups_df(df_ner)\n",
    "\n",
    "df_ner.info()"
   ]
  },
  {
   "cell_type": "code",
   "execution_count": null,
   "metadata": {},
   "outputs": [],
   "source": [
    "corr_df = (\n",
    "    df\n",
    "    [[\"score\"] + ner_cols]\n",
    "    .corr(method=\"spearman\")\n",
    "    .round(2)\n",
    "    .applymap(lambda x: x if x != 1 else None)\n",
    ")\n",
    "corr_df"
   ]
  },
  {
   "cell_type": "markdown",
   "metadata": {},
   "source": [
    "## Raw NER counts"
   ]
  },
  {
   "cell_type": "code",
   "execution_count": null,
   "metadata": {},
   "outputs": [],
   "source": [
    "extreme_groups_diff(ner_cols, df_high, df_mean, df_low)"
   ]
  },
  {
   "cell_type": "markdown",
   "metadata": {},
   "source": [
    "## NER ratios"
   ]
  },
  {
   "cell_type": "code",
   "execution_count": null,
   "metadata": {},
   "outputs": [],
   "source": [
    "cols = [x+\"_ratio\" for x in ner_cols]\n",
    "extreme_groups_diff(cols, df_high, df_mean, df_low)"
   ]
  },
  {
   "cell_type": "markdown",
   "metadata": {},
   "source": [
    "# POS labels (aprt of speech)\n",
    "- No strong correlations between POS counts and titles score\n",
    "- However, compairng high-scored titles (>= q90) and low-scored titles (<= q10), high-scored have more:\n",
    "    - verbs\n",
    "    - nouns\n",
    "- **It may means that high-scored titles have more active character**\n",
    "- **A simple and strong message (verb + noun) may attracts atention**"
   ]
  },
  {
   "cell_type": "code",
   "execution_count": null,
   "metadata": {},
   "outputs": [],
   "source": [
    "df_pos = df[base_cols + pos_cols]\n",
    "df_pos[\"total\"] = df_pos[pos_cols].sum(axis=1)\n",
    "\n",
    "for col in pos_cols:\n",
    "    df_pos[f\"{col}_ratio\"] = (df_pos[col] / df_pos[\"total\"]) * 100\n",
    "\n",
    "df_low, df_mean, df_high = extreme_groups_df(df_pos)\n",
    "\n",
    "df_pos.info()"
   ]
  },
  {
   "cell_type": "code",
   "execution_count": null,
   "metadata": {},
   "outputs": [],
   "source": [
    "corr_df = (\n",
    "    df\n",
    "    [[\"score\"] + pos_cols]\n",
    "    .corr(method=\"spearman\")\n",
    "    .round(2)\n",
    "    .applymap(lambda x: x if x != 1 else None)\n",
    ")\n",
    "corr_df"
   ]
  },
  {
   "cell_type": "code",
   "execution_count": null,
   "metadata": {},
   "outputs": [],
   "source": [
    "df_pos"
   ]
  },
  {
   "cell_type": "markdown",
   "metadata": {},
   "source": [
    "## POS counts"
   ]
  },
  {
   "cell_type": "code",
   "execution_count": null,
   "metadata": {},
   "outputs": [],
   "source": [
    "extreme_groups_diff(pos_cols, df_high, df_mean, df_low)"
   ]
  },
  {
   "cell_type": "markdown",
   "metadata": {},
   "source": [
    "## POS ratios"
   ]
  },
  {
   "cell_type": "code",
   "execution_count": null,
   "metadata": {},
   "outputs": [],
   "source": [
    "extreme_groups_diff([f\"{x}_ratio\" for x in pos_cols], df_high, df_mean, df_low)"
   ]
  },
  {
   "cell_type": "markdown",
   "metadata": {},
   "source": [
    "# TAG labels (fine-grained part-of-speech)\n",
    "- more detailed POS analysis shows that high-scored titles in comparison to low-scored titles have:\n",
    "    - more past tense verbs\n",
    "    - personal pronouns\n",
    "- **A simple message e.g. 'someone does smth' may attracts attention**"
   ]
  },
  {
   "cell_type": "code",
   "execution_count": null,
   "metadata": {},
   "outputs": [],
   "source": [
    "df_tag = df[base_cols + tag_cols]\n",
    "df_tag[\"total\"] = df_tag[tag_cols].sum(axis=1)\n",
    "\n",
    "for col in tag_cols:\n",
    "    df_tag[f\"{col}_ratio\"] = (df_tag[col] / df_tag[\"total\"]) * 100\n",
    "\n",
    "df_low, df_mean, df_high = extreme_groups_df(df_tag)\n",
    "\n",
    "df_tag.info()"
   ]
  },
  {
   "cell_type": "code",
   "execution_count": null,
   "metadata": {},
   "outputs": [],
   "source": [
    "df_tag"
   ]
  },
  {
   "cell_type": "code",
   "execution_count": null,
   "metadata": {},
   "outputs": [],
   "source": [
    "corr_df = (\n",
    "    df\n",
    "    [[\"score\"] + tag_cols]\n",
    "    .corr(method=\"spearman\")\n",
    "    .round(2)\n",
    "    .applymap(lambda x: x if x != 1 else None)\n",
    ")\n",
    "corr_df"
   ]
  },
  {
   "cell_type": "code",
   "execution_count": null,
   "metadata": {},
   "outputs": [],
   "source": [
    "extreme_groups_diff(tag_cols, df_high, df_mean, df_low)"
   ]
  },
  {
   "cell_type": "code",
   "execution_count": null,
   "metadata": {},
   "outputs": [],
   "source": [
    "extreme_groups_diff([f\"{x}_ratio\" for x in tag_cols], df_high, df_mean, df_low)"
   ]
  },
  {
   "cell_type": "markdown",
   "metadata": {},
   "source": [
    "# Sentiment\n",
    "- titles with negative sentiment have 2x higher scores than tiles with positive sentiment\n",
    "- **It means that negative sentiment attracts attention stronger than positive sentiment**"
   ]
  },
  {
   "cell_type": "code",
   "execution_count": null,
   "metadata": {},
   "outputs": [],
   "source": [
    "df_s = df[base_cols]\n",
    "sentiment_map = {\n",
    "    \"Very Negative\": 0,\n",
    "    \"Negative\": 1,\n",
    "    \"Neutral\": 2,\n",
    "    \"Positive\": 3,\n",
    "    \"Very Positive\": 4\n",
    "}\n",
    "df_s[\"sentiment_rank\"] = df_s.sentiment.apply(lambda x: sentiment_map[x])\n",
    "df_low, df_mean, df_high = extreme_groups_df(df_s)\n",
    "df_s"
   ]
  },
  {
   "cell_type": "code",
   "execution_count": null,
   "metadata": {},
   "outputs": [],
   "source": [
    "df_s[[\"score\", \"sentiment_rank\"]].corr(method=\"pearson\")"
   ]
  },
  {
   "cell_type": "code",
   "execution_count": null,
   "metadata": {},
   "outputs": [],
   "source": [
    "df_graph = df_s.groupby(\"sentiment\").agg({\"score\": \"median\"}).reset_index().sort_values(\"score\", ascending=False)\n",
    "\n",
    "fig = px.bar(\n",
    "    df_graph,\n",
    "    x=\"sentiment\",\n",
    "    y=\"score\",\n",
    "    width=600,\n",
    "    title=\"Titles scores medians and sentiments\",\n",
    "    color=\"sentiment\",\n",
    "    color_discrete_map={\n",
    "        \"Very Negative\": \"rgb(255, 50, 50)\",\n",
    "        \"Negative\": \"rgba(255, 50, 50, 0.5)\",\n",
    "        \"Neutral\": \"silver\",\n",
    "        \"Positive\": \"rgba(50, 255, 50, 0.5)\",\n",
    "        \"Very Positive\": \"rgb(50, 255, 50)\"\n",
    "    }\n",
    ")\n",
    "fig.show()"
   ]
  },
  {
   "cell_type": "code",
   "execution_count": null,
   "metadata": {},
   "outputs": [],
   "source": [
    "fig = px.histogram(\n",
    "    df_s,\n",
    "    x=\"score\",\n",
    "    color=\"sentiment\",\n",
    "    width=1400,\n",
    "    height=700,\n",
    "    title=\"Titles scores medians and sentiments\",\n",
    "    color_discrete_map={\n",
    "        \"Very Negative\": \"rgb(255, 50, 50)\",\n",
    "        \"Negative\": \"rgba(255, 50, 50, 0.5)\",\n",
    "        \"Neutral\": \"silver\",\n",
    "        \"Positive\": \"rgba(50, 255, 50, 0.5)\",\n",
    "        \"Very Positive\": \"rgb(50, 255, 50)\"\n",
    "    }\n",
    ")\n",
    "fig.show()"
   ]
  },
  {
   "cell_type": "code",
   "execution_count": null,
   "metadata": {},
   "outputs": [],
   "source": []
  }
 ],
 "metadata": {
  "kernelspec": {
   "display_name": ".venv",
   "language": "python",
   "name": "python3"
  },
  "language_info": {
   "codemirror_mode": {
    "name": "ipython",
    "version": 3
   },
   "file_extension": ".py",
   "mimetype": "text/x-python",
   "name": "python",
   "nbconvert_exporter": "python",
   "pygments_lexer": "ipython3",
   "version": "3.12.3"
  }
 },
 "nbformat": 4,
 "nbformat_minor": 2
}
